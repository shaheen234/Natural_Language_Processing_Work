{
 "cells": [
  {
   "cell_type": "code",
   "execution_count": 69,
   "metadata": {},
   "outputs": [
    {
     "name": "stdout",
     "output_type": "stream",
     "text": [
      "showing info https://raw.githubusercontent.com/nltk/nltk_data/gh-pages/index.xml\n"
     ]
    }
   ],
   "source": [
    "import nltk\n",
    "nltk.download()\n",
    "import spacy"
   ]
  },
  {
   "cell_type": "markdown",
   "metadata": {},
   "source": [
    "PART 1"
   ]
  },
  {
   "cell_type": "code",
   "execution_count": 70,
   "metadata": {},
   "outputs": [],
   "source": [
    "s=\"The Cambridge Analytica scandal is more than a “breach,” as Facebook executives have defined it. It exemplifies the possibility of using online data to algorithmically predict and influence human behavior in a manner that circumvents users awareness of such influence. Using an intermediary app, Cambridge Analytica was able to harvest large data volumes—over 50 million raw profiles—and use big data analytics to create psychographic profiles in order to subsequently target users with customized digital ads and other manipulative information. According to some observers, this massive data analytics tactic might have been used to purposively swing election campaigns around the world. The reports are still incomplete and more is likely to come to light in the next days.\""
   ]
  },
  {
   "cell_type": "code",
   "execution_count": 71,
   "metadata": {},
   "outputs": [],
   "source": [
    "tokens = nltk.word_tokenize(s)\n"
   ]
  },
  {
   "cell_type": "code",
   "execution_count": 72,
   "metadata": {},
   "outputs": [],
   "source": [
    "tagged = nltk.pos_tag(tokens)"
   ]
  },
  {
   "cell_type": "code",
   "execution_count": 73,
   "metadata": {},
   "outputs": [
    {
     "data": {
      "text/plain": [
       "[('The', 'DT'),\n",
       " ('Cambridge', 'NNP'),\n",
       " ('Analytica', 'NNP'),\n",
       " ('scandal', 'NN'),\n",
       " ('is', 'VBZ'),\n",
       " ('more', 'JJR'),\n",
       " ('than', 'IN'),\n",
       " ('a', 'DT'),\n",
       " ('“', 'JJ'),\n",
       " ('breach', 'NN'),\n",
       " (',', ','),\n",
       " ('”', 'CC'),\n",
       " ('as', 'IN'),\n",
       " ('Facebook', 'NNP'),\n",
       " ('executives', 'NNS'),\n",
       " ('have', 'VBP'),\n",
       " ('defined', 'VBN'),\n",
       " ('it', 'PRP'),\n",
       " ('.', '.'),\n",
       " ('It', 'PRP'),\n",
       " ('exemplifies', 'VBZ'),\n",
       " ('the', 'DT'),\n",
       " ('possibility', 'NN'),\n",
       " ('of', 'IN'),\n",
       " ('using', 'VBG'),\n",
       " ('online', 'JJ'),\n",
       " ('data', 'NNS'),\n",
       " ('to', 'TO'),\n",
       " ('algorithmically', 'RB'),\n",
       " ('predict', 'VB'),\n",
       " ('and', 'CC'),\n",
       " ('influence', 'VB'),\n",
       " ('human', 'JJ'),\n",
       " ('behavior', 'NN'),\n",
       " ('in', 'IN'),\n",
       " ('a', 'DT'),\n",
       " ('manner', 'NN'),\n",
       " ('that', 'WDT'),\n",
       " ('circumvents', 'VBZ'),\n",
       " ('users', 'NNS'),\n",
       " ('awareness', 'NN'),\n",
       " ('of', 'IN'),\n",
       " ('such', 'JJ'),\n",
       " ('influence', 'NN'),\n",
       " ('.', '.'),\n",
       " ('Using', 'VBG'),\n",
       " ('an', 'DT'),\n",
       " ('intermediary', 'JJ'),\n",
       " ('app', 'NN'),\n",
       " (',', ','),\n",
       " ('Cambridge', 'NNP'),\n",
       " ('Analytica', 'NNP'),\n",
       " ('was', 'VBD'),\n",
       " ('able', 'JJ'),\n",
       " ('to', 'TO'),\n",
       " ('harvest', 'VB'),\n",
       " ('large', 'JJ'),\n",
       " ('data', 'NNS'),\n",
       " ('volumes—over', 'RB'),\n",
       " ('50', 'CD'),\n",
       " ('million', 'CD'),\n",
       " ('raw', 'JJ'),\n",
       " ('profiles—and', 'NN'),\n",
       " ('use', 'NN'),\n",
       " ('big', 'JJ'),\n",
       " ('data', 'NNS'),\n",
       " ('analytics', 'NNS'),\n",
       " ('to', 'TO'),\n",
       " ('create', 'VB'),\n",
       " ('psychographic', 'JJ'),\n",
       " ('profiles', 'NNS'),\n",
       " ('in', 'IN'),\n",
       " ('order', 'NN'),\n",
       " ('to', 'TO'),\n",
       " ('subsequently', 'RB'),\n",
       " ('target', 'VB'),\n",
       " ('users', 'NNS'),\n",
       " ('with', 'IN'),\n",
       " ('customized', 'JJ'),\n",
       " ('digital', 'JJ'),\n",
       " ('ads', 'NNS'),\n",
       " ('and', 'CC'),\n",
       " ('other', 'JJ'),\n",
       " ('manipulative', 'JJ'),\n",
       " ('information', 'NN'),\n",
       " ('.', '.'),\n",
       " ('According', 'VBG'),\n",
       " ('to', 'TO'),\n",
       " ('some', 'DT'),\n",
       " ('observers', 'NNS'),\n",
       " (',', ','),\n",
       " ('this', 'DT'),\n",
       " ('massive', 'JJ'),\n",
       " ('data', 'NN'),\n",
       " ('analytics', 'NNS'),\n",
       " ('tactic', 'JJ'),\n",
       " ('might', 'MD'),\n",
       " ('have', 'VB'),\n",
       " ('been', 'VBN'),\n",
       " ('used', 'VBN'),\n",
       " ('to', 'TO'),\n",
       " ('purposively', 'RB'),\n",
       " ('swing', 'VBG'),\n",
       " ('election', 'NN'),\n",
       " ('campaigns', 'NNS'),\n",
       " ('around', 'IN'),\n",
       " ('the', 'DT'),\n",
       " ('world', 'NN'),\n",
       " ('.', '.'),\n",
       " ('The', 'DT'),\n",
       " ('reports', 'NNS'),\n",
       " ('are', 'VBP'),\n",
       " ('still', 'RB'),\n",
       " ('incomplete', 'JJ'),\n",
       " ('and', 'CC'),\n",
       " ('more', 'RBR'),\n",
       " ('is', 'VBZ'),\n",
       " ('likely', 'JJ'),\n",
       " ('to', 'TO'),\n",
       " ('come', 'VB'),\n",
       " ('to', 'TO'),\n",
       " ('light', 'NN'),\n",
       " ('in', 'IN'),\n",
       " ('the', 'DT'),\n",
       " ('next', 'JJ'),\n",
       " ('days', 'NNS'),\n",
       " ('.', '.')]"
      ]
     },
     "execution_count": 73,
     "metadata": {},
     "output_type": "execute_result"
    }
   ],
   "source": [
    "tagged"
   ]
  },
  {
   "cell_type": "code",
   "execution_count": 74,
   "metadata": {},
   "outputs": [],
   "source": [
    "brown_tags = [(word, nltk.map_tag('en-ptb', 'universal', tag)) for word, tag in tagged]\n"
   ]
  },
  {
   "cell_type": "code",
   "execution_count": 75,
   "metadata": {},
   "outputs": [
    {
     "data": {
      "text/plain": [
       "[('The', 'DET'),\n",
       " ('Cambridge', 'NOUN'),\n",
       " ('Analytica', 'NOUN'),\n",
       " ('scandal', 'NOUN'),\n",
       " ('is', 'VERB'),\n",
       " ('more', 'ADJ'),\n",
       " ('than', 'ADP'),\n",
       " ('a', 'DET'),\n",
       " ('“', 'ADJ'),\n",
       " ('breach', 'NOUN'),\n",
       " (',', '.'),\n",
       " ('”', 'CONJ'),\n",
       " ('as', 'ADP'),\n",
       " ('Facebook', 'NOUN'),\n",
       " ('executives', 'NOUN'),\n",
       " ('have', 'VERB'),\n",
       " ('defined', 'VERB'),\n",
       " ('it', 'PRON'),\n",
       " ('.', '.'),\n",
       " ('It', 'PRON'),\n",
       " ('exemplifies', 'VERB'),\n",
       " ('the', 'DET'),\n",
       " ('possibility', 'NOUN'),\n",
       " ('of', 'ADP'),\n",
       " ('using', 'VERB'),\n",
       " ('online', 'ADJ'),\n",
       " ('data', 'NOUN'),\n",
       " ('to', 'PRT'),\n",
       " ('algorithmically', 'ADV'),\n",
       " ('predict', 'VERB'),\n",
       " ('and', 'CONJ'),\n",
       " ('influence', 'VERB'),\n",
       " ('human', 'ADJ'),\n",
       " ('behavior', 'NOUN'),\n",
       " ('in', 'ADP'),\n",
       " ('a', 'DET'),\n",
       " ('manner', 'NOUN'),\n",
       " ('that', 'DET'),\n",
       " ('circumvents', 'VERB'),\n",
       " ('users', 'NOUN'),\n",
       " ('awareness', 'NOUN'),\n",
       " ('of', 'ADP'),\n",
       " ('such', 'ADJ'),\n",
       " ('influence', 'NOUN'),\n",
       " ('.', '.'),\n",
       " ('Using', 'VERB'),\n",
       " ('an', 'DET'),\n",
       " ('intermediary', 'ADJ'),\n",
       " ('app', 'NOUN'),\n",
       " (',', '.'),\n",
       " ('Cambridge', 'NOUN'),\n",
       " ('Analytica', 'NOUN'),\n",
       " ('was', 'VERB'),\n",
       " ('able', 'ADJ'),\n",
       " ('to', 'PRT'),\n",
       " ('harvest', 'VERB'),\n",
       " ('large', 'ADJ'),\n",
       " ('data', 'NOUN'),\n",
       " ('volumes—over', 'ADV'),\n",
       " ('50', 'NUM'),\n",
       " ('million', 'NUM'),\n",
       " ('raw', 'ADJ'),\n",
       " ('profiles—and', 'NOUN'),\n",
       " ('use', 'NOUN'),\n",
       " ('big', 'ADJ'),\n",
       " ('data', 'NOUN'),\n",
       " ('analytics', 'NOUN'),\n",
       " ('to', 'PRT'),\n",
       " ('create', 'VERB'),\n",
       " ('psychographic', 'ADJ'),\n",
       " ('profiles', 'NOUN'),\n",
       " ('in', 'ADP'),\n",
       " ('order', 'NOUN'),\n",
       " ('to', 'PRT'),\n",
       " ('subsequently', 'ADV'),\n",
       " ('target', 'VERB'),\n",
       " ('users', 'NOUN'),\n",
       " ('with', 'ADP'),\n",
       " ('customized', 'ADJ'),\n",
       " ('digital', 'ADJ'),\n",
       " ('ads', 'NOUN'),\n",
       " ('and', 'CONJ'),\n",
       " ('other', 'ADJ'),\n",
       " ('manipulative', 'ADJ'),\n",
       " ('information', 'NOUN'),\n",
       " ('.', '.'),\n",
       " ('According', 'VERB'),\n",
       " ('to', 'PRT'),\n",
       " ('some', 'DET'),\n",
       " ('observers', 'NOUN'),\n",
       " (',', '.'),\n",
       " ('this', 'DET'),\n",
       " ('massive', 'ADJ'),\n",
       " ('data', 'NOUN'),\n",
       " ('analytics', 'NOUN'),\n",
       " ('tactic', 'ADJ'),\n",
       " ('might', 'VERB'),\n",
       " ('have', 'VERB'),\n",
       " ('been', 'VERB'),\n",
       " ('used', 'VERB'),\n",
       " ('to', 'PRT'),\n",
       " ('purposively', 'ADV'),\n",
       " ('swing', 'VERB'),\n",
       " ('election', 'NOUN'),\n",
       " ('campaigns', 'NOUN'),\n",
       " ('around', 'ADP'),\n",
       " ('the', 'DET'),\n",
       " ('world', 'NOUN'),\n",
       " ('.', '.'),\n",
       " ('The', 'DET'),\n",
       " ('reports', 'NOUN'),\n",
       " ('are', 'VERB'),\n",
       " ('still', 'ADV'),\n",
       " ('incomplete', 'ADJ'),\n",
       " ('and', 'CONJ'),\n",
       " ('more', 'ADV'),\n",
       " ('is', 'VERB'),\n",
       " ('likely', 'ADJ'),\n",
       " ('to', 'PRT'),\n",
       " ('come', 'VERB'),\n",
       " ('to', 'PRT'),\n",
       " ('light', 'NOUN'),\n",
       " ('in', 'ADP'),\n",
       " ('the', 'DET'),\n",
       " ('next', 'ADJ'),\n",
       " ('days', 'NOUN'),\n",
       " ('.', '.')]"
      ]
     },
     "execution_count": 75,
     "metadata": {},
     "output_type": "execute_result"
    }
   ],
   "source": [
    "brown_tags"
   ]
  },
  {
   "cell_type": "code",
   "execution_count": 76,
   "metadata": {},
   "outputs": [
    {
     "name": "stdout",
     "output_type": "stream",
     "text": [
      "3914\n"
     ]
    }
   ],
   "source": [
    "\n",
    "treebank_sentences = nltk.corpus.treebank.tagged_sents()\n",
    "print(len(treebank_sentences))\n",
    "train_data = treebank_sentences[:3500]  \n",
    "test_data = treebank_sentences[3500:]  \n",
    "\n",
    "hmm_tagger = nltk.tag.HiddenMarkovModelTagger.train(train_data)\n",
    "\n",
    "\n",
    "words = nltk.word_tokenize(s)\n",
    "tagged_text = hmm_tagger.tag(words)\n",
    "\n",
    "\n"
   ]
  },
  {
   "cell_type": "code",
   "execution_count": 78,
   "metadata": {},
   "outputs": [
    {
     "name": "stdout",
     "output_type": "stream",
     "text": [
      "[('The', 'DT'), ('Cambridge', 'NNP'), ('Analytica', '.'), ('scandal', \"''\"), ('is', 'VBZ'), ('more', 'JJR'), ('than', 'IN'), ('a', 'DT'), ('“', 'JJ'), ('breach', 'NNS'), (',', ','), ('”', \"''\"), ('as', 'IN'), ('Facebook', 'PRP$'), ('executives', 'NNS'), ('have', 'VBP'), ('defined', 'VBN'), ('it', 'PRP'), ('.', '.'), ('It', \"''\"), ('exemplifies', 'VBZ'), ('the', 'DT'), ('possibility', 'NN'), ('of', 'IN'), ('using', 'VBG'), ('online', 'PRP$'), ('data', 'NNS'), ('to', 'TO'), ('algorithmically', 'VB'), ('predict', 'NNS'), ('and', 'CC'), ('influence', 'NN'), ('human', 'JJ'), ('behavior', 'NN'), ('in', 'IN'), ('a', 'DT'), ('manner', 'NN'), ('that', 'IN'), ('circumvents', '$'), ('users', 'CD'), ('awareness', 'NN'), ('of', 'IN'), ('such', 'JJ'), ('influence', 'NN'), ('.', '.'), ('Using', \"''\"), ('an', 'DT'), ('intermediary', 'JJ'), ('app', 'NNS'), (',', ','), ('Cambridge', 'NNP'), ('Analytica', 'NNP'), ('was', 'VBD'), ('able', 'JJ'), ('to', 'TO'), ('harvest', 'VB'), ('large', 'JJ'), ('data', 'NNS'), ('volumes—over', 'IN'), ('50', 'CD'), ('million', 'CD'), ('raw', '-NONE-'), ('profiles—and', 'TO'), ('use', 'VB'), ('big', 'JJ'), ('data', 'NNS'), ('analytics', '-NONE-'), ('to', 'TO'), ('create', 'VB'), ('psychographic', 'VBN'), ('profiles', '-NONE-'), ('in', 'IN'), ('order', 'NN'), ('to', 'TO'), ('subsequently', 'VB'), ('target', 'NN'), ('users', 'NNS'), ('with', 'IN'), ('customized', '$'), ('digital', 'CD'), ('ads', 'NNS'), ('and', 'CC'), ('other', 'JJ'), ('manipulative', 'JJ'), ('information', 'NN'), ('.', '.'), ('According', \"''\"), ('to', 'TO'), ('some', 'DT'), ('observers', 'NNS'), (',', ','), ('this', 'DT'), ('massive', 'JJ'), ('data', 'NNS'), ('analytics', '.'), ('tactic', \"''\"), ('might', 'MD'), ('have', 'VB'), ('been', 'VBN'), ('used', 'VBN'), ('to', 'TO'), ('purposively', 'VB'), ('swing', 'NN'), ('election', 'NN'), ('campaigns', 'NNS'), ('around', 'IN'), ('the', 'DT'), ('world', 'NN'), ('.', '.'), ('The', 'DT'), ('reports', 'NNS'), ('are', 'VBP'), ('still', 'RB'), ('incomplete', 'JJ'), ('and', 'CC'), ('more', 'PRP'), ('is', 'VBZ'), ('likely', 'JJ'), ('to', 'TO'), ('come', 'VB'), ('to', 'TO'), ('light', 'JJ'), ('in', 'IN'), ('the', 'DT'), ('next', 'JJ'), ('days', 'NNS'), ('.', '.')]\n"
     ]
    }
   ],
   "source": [
    "print(tagged_text)"
   ]
  },
  {
   "cell_type": "code",
   "execution_count": 79,
   "metadata": {},
   "outputs": [],
   "source": [
    "brown_tags_HMM = [(word, nltk.map_tag('en-ptb', 'universal', tag)) for word, tag in tagged_text]"
   ]
  },
  {
   "cell_type": "code",
   "execution_count": 81,
   "metadata": {},
   "outputs": [
    {
     "data": {
      "text/plain": [
       "[('The', 'DET'),\n",
       " ('Cambridge', 'NOUN'),\n",
       " ('Analytica', '.'),\n",
       " ('scandal', '.'),\n",
       " ('is', 'VERB'),\n",
       " ('more', 'ADJ'),\n",
       " ('than', 'ADP'),\n",
       " ('a', 'DET'),\n",
       " ('“', 'ADJ'),\n",
       " ('breach', 'NOUN'),\n",
       " (',', '.'),\n",
       " ('”', '.'),\n",
       " ('as', 'ADP'),\n",
       " ('Facebook', 'PRON'),\n",
       " ('executives', 'NOUN'),\n",
       " ('have', 'VERB'),\n",
       " ('defined', 'VERB'),\n",
       " ('it', 'PRON'),\n",
       " ('.', '.'),\n",
       " ('It', '.'),\n",
       " ('exemplifies', 'VERB'),\n",
       " ('the', 'DET'),\n",
       " ('possibility', 'NOUN'),\n",
       " ('of', 'ADP'),\n",
       " ('using', 'VERB'),\n",
       " ('online', 'PRON'),\n",
       " ('data', 'NOUN'),\n",
       " ('to', 'PRT'),\n",
       " ('algorithmically', 'VERB'),\n",
       " ('predict', 'NOUN'),\n",
       " ('and', 'CONJ'),\n",
       " ('influence', 'NOUN'),\n",
       " ('human', 'ADJ'),\n",
       " ('behavior', 'NOUN'),\n",
       " ('in', 'ADP'),\n",
       " ('a', 'DET'),\n",
       " ('manner', 'NOUN'),\n",
       " ('that', 'ADP'),\n",
       " ('circumvents', '.'),\n",
       " ('users', 'NUM'),\n",
       " ('awareness', 'NOUN'),\n",
       " ('of', 'ADP'),\n",
       " ('such', 'ADJ'),\n",
       " ('influence', 'NOUN'),\n",
       " ('.', '.'),\n",
       " ('Using', '.'),\n",
       " ('an', 'DET'),\n",
       " ('intermediary', 'ADJ'),\n",
       " ('app', 'NOUN'),\n",
       " (',', '.'),\n",
       " ('Cambridge', 'NOUN'),\n",
       " ('Analytica', 'NOUN'),\n",
       " ('was', 'VERB'),\n",
       " ('able', 'ADJ'),\n",
       " ('to', 'PRT'),\n",
       " ('harvest', 'VERB'),\n",
       " ('large', 'ADJ'),\n",
       " ('data', 'NOUN'),\n",
       " ('volumes—over', 'ADP'),\n",
       " ('50', 'NUM'),\n",
       " ('million', 'NUM'),\n",
       " ('raw', 'X'),\n",
       " ('profiles—and', 'PRT'),\n",
       " ('use', 'VERB'),\n",
       " ('big', 'ADJ'),\n",
       " ('data', 'NOUN'),\n",
       " ('analytics', 'X'),\n",
       " ('to', 'PRT'),\n",
       " ('create', 'VERB'),\n",
       " ('psychographic', 'VERB'),\n",
       " ('profiles', 'X'),\n",
       " ('in', 'ADP'),\n",
       " ('order', 'NOUN'),\n",
       " ('to', 'PRT'),\n",
       " ('subsequently', 'VERB'),\n",
       " ('target', 'NOUN'),\n",
       " ('users', 'NOUN'),\n",
       " ('with', 'ADP'),\n",
       " ('customized', '.'),\n",
       " ('digital', 'NUM'),\n",
       " ('ads', 'NOUN'),\n",
       " ('and', 'CONJ'),\n",
       " ('other', 'ADJ'),\n",
       " ('manipulative', 'ADJ'),\n",
       " ('information', 'NOUN'),\n",
       " ('.', '.'),\n",
       " ('According', '.'),\n",
       " ('to', 'PRT'),\n",
       " ('some', 'DET'),\n",
       " ('observers', 'NOUN'),\n",
       " (',', '.'),\n",
       " ('this', 'DET'),\n",
       " ('massive', 'ADJ'),\n",
       " ('data', 'NOUN'),\n",
       " ('analytics', '.'),\n",
       " ('tactic', '.'),\n",
       " ('might', 'VERB'),\n",
       " ('have', 'VERB'),\n",
       " ('been', 'VERB'),\n",
       " ('used', 'VERB'),\n",
       " ('to', 'PRT'),\n",
       " ('purposively', 'VERB'),\n",
       " ('swing', 'NOUN'),\n",
       " ('election', 'NOUN'),\n",
       " ('campaigns', 'NOUN'),\n",
       " ('around', 'ADP'),\n",
       " ('the', 'DET'),\n",
       " ('world', 'NOUN'),\n",
       " ('.', '.'),\n",
       " ('The', 'DET'),\n",
       " ('reports', 'NOUN'),\n",
       " ('are', 'VERB'),\n",
       " ('still', 'ADV'),\n",
       " ('incomplete', 'ADJ'),\n",
       " ('and', 'CONJ'),\n",
       " ('more', 'PRON'),\n",
       " ('is', 'VERB'),\n",
       " ('likely', 'ADJ'),\n",
       " ('to', 'PRT'),\n",
       " ('come', 'VERB'),\n",
       " ('to', 'PRT'),\n",
       " ('light', 'ADJ'),\n",
       " ('in', 'ADP'),\n",
       " ('the', 'DET'),\n",
       " ('next', 'ADJ'),\n",
       " ('days', 'NOUN'),\n",
       " ('.', '.')]"
      ]
     },
     "execution_count": 81,
     "metadata": {},
     "output_type": "execute_result"
    }
   ],
   "source": [
    "brown_tags_HMM"
   ]
  },
  {
   "cell_type": "code",
   "execution_count": null,
   "metadata": {},
   "outputs": [],
   "source": [
    "#couldnt identify scandal as noun"
   ]
  },
  {
   "cell_type": "markdown",
   "metadata": {},
   "source": [
    "PART 2"
   ]
  },
  {
   "cell_type": "code",
   "execution_count": 82,
   "metadata": {},
   "outputs": [],
   "source": [
    "s2='“Atlas Honda is expected to achieve sales of 1.1 million units by end of its financial year ending March 31, while it aims to hit sales of 1.3m bikes in its next financial year, a Honda dealer said.'"
   ]
  },
  {
   "cell_type": "code",
   "execution_count": 83,
   "metadata": {},
   "outputs": [],
   "source": [
    "tokens2 = nltk.word_tokenize(s2)"
   ]
  },
  {
   "cell_type": "code",
   "execution_count": 84,
   "metadata": {},
   "outputs": [],
   "source": [
    "tagged2= nltk.pos_tag(tokens2)"
   ]
  },
  {
   "cell_type": "code",
   "execution_count": 85,
   "metadata": {},
   "outputs": [],
   "source": [
    "entities=nltk.chunk.ne_chunk(tagged2)\n"
   ]
  },
  {
   "cell_type": "code",
   "execution_count": 86,
   "metadata": {},
   "outputs": [
    {
     "data": {
      "image/svg+xml": [
       "<svg baseProfile=\"full\" height=\"168px\" preserveAspectRatio=\"xMidYMid meet\" style=\"font-family: times, serif; font-weight: normal; font-style: normal; font-size: 16px;\" version=\"1.1\" viewBox=\"0,0,2008.0,168.0\" width=\"2008px\" xmlns=\"http://www.w3.org/2000/svg\" xmlns:ev=\"http://www.w3.org/2001/xml-events\" xmlns:xlink=\"http://www.w3.org/1999/xlink\"><defs /><svg width=\"100%\" x=\"0\" y=\"0px\"><defs /><text text-anchor=\"middle\" x=\"50%\" y=\"16px\">S</text></svg><svg width=\"1.59363%\" x=\"0%\" y=\"48px\"><defs /><svg width=\"100%\" x=\"0\" y=\"0px\"><defs /><text text-anchor=\"middle\" x=\"50%\" y=\"16px\">“</text></svg><svg width=\"100%\" x=\"0%\" y=\"48px\"><defs /><svg width=\"100%\" x=\"0\" y=\"0px\"><defs /><text text-anchor=\"middle\" x=\"50%\" y=\"16px\">JJ</text></svg></svg><line stroke=\"black\" x1=\"50%\" x2=\"50%\" y1=\"19.2px\" y2=\"48px\" /></svg><line stroke=\"black\" x1=\"50%\" x2=\"0.796813%\" y1=\"19.2px\" y2=\"48px\" /><svg width=\"5.57769%\" x=\"1.59363%\" y=\"48px\"><defs /><svg width=\"100%\" x=\"0\" y=\"0px\"><defs /><text text-anchor=\"middle\" x=\"50%\" y=\"16px\">PERSON</text></svg><svg width=\"50%\" x=\"0%\" y=\"48px\"><defs /><svg width=\"100%\" x=\"0\" y=\"0px\"><defs /><text text-anchor=\"middle\" x=\"50%\" y=\"16px\">Atlas</text></svg><svg width=\"100%\" x=\"0%\" y=\"48px\"><defs /><svg width=\"100%\" x=\"0\" y=\"0px\"><defs /><text text-anchor=\"middle\" x=\"50%\" y=\"16px\">NNP</text></svg></svg><line stroke=\"black\" x1=\"50%\" x2=\"50%\" y1=\"19.2px\" y2=\"48px\" /></svg><line stroke=\"black\" x1=\"50%\" x2=\"25%\" y1=\"19.2px\" y2=\"48px\" /><svg width=\"50%\" x=\"50%\" y=\"48px\"><defs /><svg width=\"100%\" x=\"0\" y=\"0px\"><defs /><text text-anchor=\"middle\" x=\"50%\" y=\"16px\">Honda</text></svg><svg width=\"100%\" x=\"0%\" y=\"48px\"><defs /><svg width=\"100%\" x=\"0\" y=\"0px\"><defs /><text text-anchor=\"middle\" x=\"50%\" y=\"16px\">NNP</text></svg></svg><line stroke=\"black\" x1=\"50%\" x2=\"50%\" y1=\"19.2px\" y2=\"48px\" /></svg><line stroke=\"black\" x1=\"50%\" x2=\"75%\" y1=\"19.2px\" y2=\"48px\" /></svg><line stroke=\"black\" x1=\"50%\" x2=\"4.38247%\" y1=\"19.2px\" y2=\"48px\" /><svg width=\"1.99203%\" x=\"7.17131%\" y=\"48px\"><defs /><svg width=\"100%\" x=\"0\" y=\"0px\"><defs /><text text-anchor=\"middle\" x=\"50%\" y=\"16px\">is</text></svg><svg width=\"100%\" x=\"0%\" y=\"48px\"><defs /><svg width=\"100%\" x=\"0\" y=\"0px\"><defs /><text text-anchor=\"middle\" x=\"50%\" y=\"16px\">VBZ</text></svg></svg><line stroke=\"black\" x1=\"50%\" x2=\"50%\" y1=\"19.2px\" y2=\"48px\" /></svg><line stroke=\"black\" x1=\"50%\" x2=\"8.16733%\" y1=\"19.2px\" y2=\"48px\" /><svg width=\"3.98406%\" x=\"9.16335%\" y=\"48px\"><defs /><svg width=\"100%\" x=\"0\" y=\"0px\"><defs /><text text-anchor=\"middle\" x=\"50%\" y=\"16px\">expected</text></svg><svg width=\"100%\" x=\"0%\" y=\"48px\"><defs /><svg width=\"100%\" x=\"0\" y=\"0px\"><defs /><text text-anchor=\"middle\" x=\"50%\" y=\"16px\">VBN</text></svg></svg><line stroke=\"black\" x1=\"50%\" x2=\"50%\" y1=\"19.2px\" y2=\"48px\" /></svg><line stroke=\"black\" x1=\"50%\" x2=\"11.1554%\" y1=\"19.2px\" y2=\"48px\" /><svg width=\"1.59363%\" x=\"13.1474%\" y=\"48px\"><defs /><svg width=\"100%\" x=\"0\" y=\"0px\"><defs /><text text-anchor=\"middle\" x=\"50%\" y=\"16px\">to</text></svg><svg width=\"100%\" x=\"0%\" y=\"48px\"><defs /><svg width=\"100%\" x=\"0\" y=\"0px\"><defs /><text text-anchor=\"middle\" x=\"50%\" y=\"16px\">TO</text></svg></svg><line stroke=\"black\" x1=\"50%\" x2=\"50%\" y1=\"19.2px\" y2=\"48px\" /></svg><line stroke=\"black\" x1=\"50%\" x2=\"13.9442%\" y1=\"19.2px\" y2=\"48px\" /><svg width=\"3.58566%\" x=\"14.741%\" y=\"48px\"><defs /><svg width=\"100%\" x=\"0\" y=\"0px\"><defs /><text text-anchor=\"middle\" x=\"50%\" y=\"16px\">achieve</text></svg><svg width=\"100%\" x=\"0%\" y=\"48px\"><defs /><svg width=\"100%\" x=\"0\" y=\"0px\"><defs /><text text-anchor=\"middle\" x=\"50%\" y=\"16px\">VB</text></svg></svg><line stroke=\"black\" x1=\"50%\" x2=\"50%\" y1=\"19.2px\" y2=\"48px\" /></svg><line stroke=\"black\" x1=\"50%\" x2=\"16.5339%\" y1=\"19.2px\" y2=\"48px\" /><svg width=\"2.78884%\" x=\"18.3267%\" y=\"48px\"><defs /><svg width=\"100%\" x=\"0\" y=\"0px\"><defs /><text text-anchor=\"middle\" x=\"50%\" y=\"16px\">sales</text></svg><svg width=\"100%\" x=\"0%\" y=\"48px\"><defs /><svg width=\"100%\" x=\"0\" y=\"0px\"><defs /><text text-anchor=\"middle\" x=\"50%\" y=\"16px\">NNS</text></svg></svg><line stroke=\"black\" x1=\"50%\" x2=\"50%\" y1=\"19.2px\" y2=\"48px\" /></svg><line stroke=\"black\" x1=\"50%\" x2=\"19.7211%\" y1=\"19.2px\" y2=\"48px\" /><svg width=\"1.59363%\" x=\"21.1155%\" y=\"48px\"><defs /><svg width=\"100%\" x=\"0\" y=\"0px\"><defs /><text text-anchor=\"middle\" x=\"50%\" y=\"16px\">of</text></svg><svg width=\"100%\" x=\"0%\" y=\"48px\"><defs /><svg width=\"100%\" x=\"0\" y=\"0px\"><defs /><text text-anchor=\"middle\" x=\"50%\" y=\"16px\">IN</text></svg></svg><line stroke=\"black\" x1=\"50%\" x2=\"50%\" y1=\"19.2px\" y2=\"48px\" /></svg><line stroke=\"black\" x1=\"50%\" x2=\"21.9124%\" y1=\"19.2px\" y2=\"48px\" /><svg width=\"1.99203%\" x=\"22.7092%\" y=\"48px\"><defs /><svg width=\"100%\" x=\"0\" y=\"0px\"><defs /><text text-anchor=\"middle\" x=\"50%\" y=\"16px\">1.1</text></svg><svg width=\"100%\" x=\"0%\" y=\"48px\"><defs /><svg width=\"100%\" x=\"0\" y=\"0px\"><defs /><text text-anchor=\"middle\" x=\"50%\" y=\"16px\">CD</text></svg></svg><line stroke=\"black\" x1=\"50%\" x2=\"50%\" y1=\"19.2px\" y2=\"48px\" /></svg><line stroke=\"black\" x1=\"50%\" x2=\"23.7052%\" y1=\"19.2px\" y2=\"48px\" /><svg width=\"3.58566%\" x=\"24.7012%\" y=\"48px\"><defs /><svg width=\"100%\" x=\"0\" y=\"0px\"><defs /><text text-anchor=\"middle\" x=\"50%\" y=\"16px\">million</text></svg><svg width=\"100%\" x=\"0%\" y=\"48px\"><defs /><svg width=\"100%\" x=\"0\" y=\"0px\"><defs /><text text-anchor=\"middle\" x=\"50%\" y=\"16px\">CD</text></svg></svg><line stroke=\"black\" x1=\"50%\" x2=\"50%\" y1=\"19.2px\" y2=\"48px\" /></svg><line stroke=\"black\" x1=\"50%\" x2=\"26.494%\" y1=\"19.2px\" y2=\"48px\" /><svg width=\"2.78884%\" x=\"28.2869%\" y=\"48px\"><defs /><svg width=\"100%\" x=\"0\" y=\"0px\"><defs /><text text-anchor=\"middle\" x=\"50%\" y=\"16px\">units</text></svg><svg width=\"100%\" x=\"0%\" y=\"48px\"><defs /><svg width=\"100%\" x=\"0\" y=\"0px\"><defs /><text text-anchor=\"middle\" x=\"50%\" y=\"16px\">NNS</text></svg></svg><line stroke=\"black\" x1=\"50%\" x2=\"50%\" y1=\"19.2px\" y2=\"48px\" /></svg><line stroke=\"black\" x1=\"50%\" x2=\"29.6813%\" y1=\"19.2px\" y2=\"48px\" /><svg width=\"1.59363%\" x=\"31.0757%\" y=\"48px\"><defs /><svg width=\"100%\" x=\"0\" y=\"0px\"><defs /><text text-anchor=\"middle\" x=\"50%\" y=\"16px\">by</text></svg><svg width=\"100%\" x=\"0%\" y=\"48px\"><defs /><svg width=\"100%\" x=\"0\" y=\"0px\"><defs /><text text-anchor=\"middle\" x=\"50%\" y=\"16px\">IN</text></svg></svg><line stroke=\"black\" x1=\"50%\" x2=\"50%\" y1=\"19.2px\" y2=\"48px\" /></svg><line stroke=\"black\" x1=\"50%\" x2=\"31.8725%\" y1=\"19.2px\" y2=\"48px\" /><svg width=\"1.99203%\" x=\"32.6693%\" y=\"48px\"><defs /><svg width=\"100%\" x=\"0\" y=\"0px\"><defs /><text text-anchor=\"middle\" x=\"50%\" y=\"16px\">end</text></svg><svg width=\"100%\" x=\"0%\" y=\"48px\"><defs /><svg width=\"100%\" x=\"0\" y=\"0px\"><defs /><text text-anchor=\"middle\" x=\"50%\" y=\"16px\">NN</text></svg></svg><line stroke=\"black\" x1=\"50%\" x2=\"50%\" y1=\"19.2px\" y2=\"48px\" /></svg><line stroke=\"black\" x1=\"50%\" x2=\"33.6653%\" y1=\"19.2px\" y2=\"48px\" /><svg width=\"1.59363%\" x=\"34.6614%\" y=\"48px\"><defs /><svg width=\"100%\" x=\"0\" y=\"0px\"><defs /><text text-anchor=\"middle\" x=\"50%\" y=\"16px\">of</text></svg><svg width=\"100%\" x=\"0%\" y=\"48px\"><defs /><svg width=\"100%\" x=\"0\" y=\"0px\"><defs /><text text-anchor=\"middle\" x=\"50%\" y=\"16px\">IN</text></svg></svg><line stroke=\"black\" x1=\"50%\" x2=\"50%\" y1=\"19.2px\" y2=\"48px\" /></svg><line stroke=\"black\" x1=\"50%\" x2=\"35.4582%\" y1=\"19.2px\" y2=\"48px\" /><svg width=\"2.39044%\" x=\"36.255%\" y=\"48px\"><defs /><svg width=\"100%\" x=\"0\" y=\"0px\"><defs /><text text-anchor=\"middle\" x=\"50%\" y=\"16px\">its</text></svg><svg width=\"100%\" x=\"0%\" y=\"48px\"><defs /><svg width=\"100%\" x=\"0\" y=\"0px\"><defs /><text text-anchor=\"middle\" x=\"50%\" y=\"16px\">PRP$</text></svg></svg><line stroke=\"black\" x1=\"50%\" x2=\"50%\" y1=\"19.2px\" y2=\"48px\" /></svg><line stroke=\"black\" x1=\"50%\" x2=\"37.4502%\" y1=\"19.2px\" y2=\"48px\" /><svg width=\"4.38247%\" x=\"38.6454%\" y=\"48px\"><defs /><svg width=\"100%\" x=\"0\" y=\"0px\"><defs /><text text-anchor=\"middle\" x=\"50%\" y=\"16px\">financial</text></svg><svg width=\"100%\" x=\"0%\" y=\"48px\"><defs /><svg width=\"100%\" x=\"0\" y=\"0px\"><defs /><text text-anchor=\"middle\" x=\"50%\" y=\"16px\">JJ</text></svg></svg><line stroke=\"black\" x1=\"50%\" x2=\"50%\" y1=\"19.2px\" y2=\"48px\" /></svg><line stroke=\"black\" x1=\"50%\" x2=\"40.8367%\" y1=\"19.2px\" y2=\"48px\" /><svg width=\"2.39044%\" x=\"43.0279%\" y=\"48px\"><defs /><svg width=\"100%\" x=\"0\" y=\"0px\"><defs /><text text-anchor=\"middle\" x=\"50%\" y=\"16px\">year</text></svg><svg width=\"100%\" x=\"0%\" y=\"48px\"><defs /><svg width=\"100%\" x=\"0\" y=\"0px\"><defs /><text text-anchor=\"middle\" x=\"50%\" y=\"16px\">NN</text></svg></svg><line stroke=\"black\" x1=\"50%\" x2=\"50%\" y1=\"19.2px\" y2=\"48px\" /></svg><line stroke=\"black\" x1=\"50%\" x2=\"44.2231%\" y1=\"19.2px\" y2=\"48px\" /><svg width=\"3.18725%\" x=\"45.4183%\" y=\"48px\"><defs /><svg width=\"100%\" x=\"0\" y=\"0px\"><defs /><text text-anchor=\"middle\" x=\"50%\" y=\"16px\">ending</text></svg><svg width=\"100%\" x=\"0%\" y=\"48px\"><defs /><svg width=\"100%\" x=\"0\" y=\"0px\"><defs /><text text-anchor=\"middle\" x=\"50%\" y=\"16px\">VBG</text></svg></svg><line stroke=\"black\" x1=\"50%\" x2=\"50%\" y1=\"19.2px\" y2=\"48px\" /></svg><line stroke=\"black\" x1=\"50%\" x2=\"47.012%\" y1=\"19.2px\" y2=\"48px\" /><svg width=\"2.78884%\" x=\"48.6056%\" y=\"48px\"><defs /><svg width=\"100%\" x=\"0\" y=\"0px\"><defs /><text text-anchor=\"middle\" x=\"50%\" y=\"16px\">March</text></svg><svg width=\"100%\" x=\"0%\" y=\"48px\"><defs /><svg width=\"100%\" x=\"0\" y=\"0px\"><defs /><text text-anchor=\"middle\" x=\"50%\" y=\"16px\">NNP</text></svg></svg><line stroke=\"black\" x1=\"50%\" x2=\"50%\" y1=\"19.2px\" y2=\"48px\" /></svg><line stroke=\"black\" x1=\"50%\" x2=\"50%\" y1=\"19.2px\" y2=\"48px\" /><svg width=\"1.59363%\" x=\"51.3944%\" y=\"48px\"><defs /><svg width=\"100%\" x=\"0\" y=\"0px\"><defs /><text text-anchor=\"middle\" x=\"50%\" y=\"16px\">31</text></svg><svg width=\"100%\" x=\"0%\" y=\"48px\"><defs /><svg width=\"100%\" x=\"0\" y=\"0px\"><defs /><text text-anchor=\"middle\" x=\"50%\" y=\"16px\">CD</text></svg></svg><line stroke=\"black\" x1=\"50%\" x2=\"50%\" y1=\"19.2px\" y2=\"48px\" /></svg><line stroke=\"black\" x1=\"50%\" x2=\"52.1912%\" y1=\"19.2px\" y2=\"48px\" /><svg width=\"1.19522%\" x=\"52.988%\" y=\"48px\"><defs /><svg width=\"100%\" x=\"0\" y=\"0px\"><defs /><text text-anchor=\"middle\" x=\"50%\" y=\"16px\">,</text></svg><svg width=\"100%\" x=\"0%\" y=\"48px\"><defs /><svg width=\"100%\" x=\"0\" y=\"0px\"><defs /><text text-anchor=\"middle\" x=\"50%\" y=\"16px\">,</text></svg></svg><line stroke=\"black\" x1=\"50%\" x2=\"50%\" y1=\"19.2px\" y2=\"48px\" /></svg><line stroke=\"black\" x1=\"50%\" x2=\"53.5857%\" y1=\"19.2px\" y2=\"48px\" /><svg width=\"2.78884%\" x=\"54.1833%\" y=\"48px\"><defs /><svg width=\"100%\" x=\"0\" y=\"0px\"><defs /><text text-anchor=\"middle\" x=\"50%\" y=\"16px\">while</text></svg><svg width=\"100%\" x=\"0%\" y=\"48px\"><defs /><svg width=\"100%\" x=\"0\" y=\"0px\"><defs /><text text-anchor=\"middle\" x=\"50%\" y=\"16px\">IN</text></svg></svg><line stroke=\"black\" x1=\"50%\" x2=\"50%\" y1=\"19.2px\" y2=\"48px\" /></svg><line stroke=\"black\" x1=\"50%\" x2=\"55.5777%\" y1=\"19.2px\" y2=\"48px\" /><svg width=\"1.99203%\" x=\"56.9721%\" y=\"48px\"><defs /><svg width=\"100%\" x=\"0\" y=\"0px\"><defs /><text text-anchor=\"middle\" x=\"50%\" y=\"16px\">it</text></svg><svg width=\"100%\" x=\"0%\" y=\"48px\"><defs /><svg width=\"100%\" x=\"0\" y=\"0px\"><defs /><text text-anchor=\"middle\" x=\"50%\" y=\"16px\">PRP</text></svg></svg><line stroke=\"black\" x1=\"50%\" x2=\"50%\" y1=\"19.2px\" y2=\"48px\" /></svg><line stroke=\"black\" x1=\"50%\" x2=\"57.9681%\" y1=\"19.2px\" y2=\"48px\" /><svg width=\"2.39044%\" x=\"58.9641%\" y=\"48px\"><defs /><svg width=\"100%\" x=\"0\" y=\"0px\"><defs /><text text-anchor=\"middle\" x=\"50%\" y=\"16px\">aims</text></svg><svg width=\"100%\" x=\"0%\" y=\"48px\"><defs /><svg width=\"100%\" x=\"0\" y=\"0px\"><defs /><text text-anchor=\"middle\" x=\"50%\" y=\"16px\">VBZ</text></svg></svg><line stroke=\"black\" x1=\"50%\" x2=\"50%\" y1=\"19.2px\" y2=\"48px\" /></svg><line stroke=\"black\" x1=\"50%\" x2=\"60.1594%\" y1=\"19.2px\" y2=\"48px\" /><svg width=\"1.59363%\" x=\"61.3546%\" y=\"48px\"><defs /><svg width=\"100%\" x=\"0\" y=\"0px\"><defs /><text text-anchor=\"middle\" x=\"50%\" y=\"16px\">to</text></svg><svg width=\"100%\" x=\"0%\" y=\"48px\"><defs /><svg width=\"100%\" x=\"0\" y=\"0px\"><defs /><text text-anchor=\"middle\" x=\"50%\" y=\"16px\">TO</text></svg></svg><line stroke=\"black\" x1=\"50%\" x2=\"50%\" y1=\"19.2px\" y2=\"48px\" /></svg><line stroke=\"black\" x1=\"50%\" x2=\"62.1514%\" y1=\"19.2px\" y2=\"48px\" /><svg width=\"1.99203%\" x=\"62.9482%\" y=\"48px\"><defs /><svg width=\"100%\" x=\"0\" y=\"0px\"><defs /><text text-anchor=\"middle\" x=\"50%\" y=\"16px\">hit</text></svg><svg width=\"100%\" x=\"0%\" y=\"48px\"><defs /><svg width=\"100%\" x=\"0\" y=\"0px\"><defs /><text text-anchor=\"middle\" x=\"50%\" y=\"16px\">VB</text></svg></svg><line stroke=\"black\" x1=\"50%\" x2=\"50%\" y1=\"19.2px\" y2=\"48px\" /></svg><line stroke=\"black\" x1=\"50%\" x2=\"63.9442%\" y1=\"19.2px\" y2=\"48px\" /><svg width=\"2.78884%\" x=\"64.9402%\" y=\"48px\"><defs /><svg width=\"100%\" x=\"0\" y=\"0px\"><defs /><text text-anchor=\"middle\" x=\"50%\" y=\"16px\">sales</text></svg><svg width=\"100%\" x=\"0%\" y=\"48px\"><defs /><svg width=\"100%\" x=\"0\" y=\"0px\"><defs /><text text-anchor=\"middle\" x=\"50%\" y=\"16px\">NNS</text></svg></svg><line stroke=\"black\" x1=\"50%\" x2=\"50%\" y1=\"19.2px\" y2=\"48px\" /></svg><line stroke=\"black\" x1=\"50%\" x2=\"66.3347%\" y1=\"19.2px\" y2=\"48px\" /><svg width=\"1.59363%\" x=\"67.7291%\" y=\"48px\"><defs /><svg width=\"100%\" x=\"0\" y=\"0px\"><defs /><text text-anchor=\"middle\" x=\"50%\" y=\"16px\">of</text></svg><svg width=\"100%\" x=\"0%\" y=\"48px\"><defs /><svg width=\"100%\" x=\"0\" y=\"0px\"><defs /><text text-anchor=\"middle\" x=\"50%\" y=\"16px\">IN</text></svg></svg><line stroke=\"black\" x1=\"50%\" x2=\"50%\" y1=\"19.2px\" y2=\"48px\" /></svg><line stroke=\"black\" x1=\"50%\" x2=\"68.5259%\" y1=\"19.2px\" y2=\"48px\" /><svg width=\"2.39044%\" x=\"69.3227%\" y=\"48px\"><defs /><svg width=\"100%\" x=\"0\" y=\"0px\"><defs /><text text-anchor=\"middle\" x=\"50%\" y=\"16px\">1.3m</text></svg><svg width=\"100%\" x=\"0%\" y=\"48px\"><defs /><svg width=\"100%\" x=\"0\" y=\"0px\"><defs /><text text-anchor=\"middle\" x=\"50%\" y=\"16px\">CD</text></svg></svg><line stroke=\"black\" x1=\"50%\" x2=\"50%\" y1=\"19.2px\" y2=\"48px\" /></svg><line stroke=\"black\" x1=\"50%\" x2=\"70.5179%\" y1=\"19.2px\" y2=\"48px\" /><svg width=\"2.78884%\" x=\"71.7131%\" y=\"48px\"><defs /><svg width=\"100%\" x=\"0\" y=\"0px\"><defs /><text text-anchor=\"middle\" x=\"50%\" y=\"16px\">bikes</text></svg><svg width=\"100%\" x=\"0%\" y=\"48px\"><defs /><svg width=\"100%\" x=\"0\" y=\"0px\"><defs /><text text-anchor=\"middle\" x=\"50%\" y=\"16px\">NNS</text></svg></svg><line stroke=\"black\" x1=\"50%\" x2=\"50%\" y1=\"19.2px\" y2=\"48px\" /></svg><line stroke=\"black\" x1=\"50%\" x2=\"73.1076%\" y1=\"19.2px\" y2=\"48px\" /><svg width=\"1.59363%\" x=\"74.502%\" y=\"48px\"><defs /><svg width=\"100%\" x=\"0\" y=\"0px\"><defs /><text text-anchor=\"middle\" x=\"50%\" y=\"16px\">in</text></svg><svg width=\"100%\" x=\"0%\" y=\"48px\"><defs /><svg width=\"100%\" x=\"0\" y=\"0px\"><defs /><text text-anchor=\"middle\" x=\"50%\" y=\"16px\">IN</text></svg></svg><line stroke=\"black\" x1=\"50%\" x2=\"50%\" y1=\"19.2px\" y2=\"48px\" /></svg><line stroke=\"black\" x1=\"50%\" x2=\"75.2988%\" y1=\"19.2px\" y2=\"48px\" /><svg width=\"2.39044%\" x=\"76.0956%\" y=\"48px\"><defs /><svg width=\"100%\" x=\"0\" y=\"0px\"><defs /><text text-anchor=\"middle\" x=\"50%\" y=\"16px\">its</text></svg><svg width=\"100%\" x=\"0%\" y=\"48px\"><defs /><svg width=\"100%\" x=\"0\" y=\"0px\"><defs /><text text-anchor=\"middle\" x=\"50%\" y=\"16px\">PRP$</text></svg></svg><line stroke=\"black\" x1=\"50%\" x2=\"50%\" y1=\"19.2px\" y2=\"48px\" /></svg><line stroke=\"black\" x1=\"50%\" x2=\"77.2908%\" y1=\"19.2px\" y2=\"48px\" /><svg width=\"2.39044%\" x=\"78.4861%\" y=\"48px\"><defs /><svg width=\"100%\" x=\"0\" y=\"0px\"><defs /><text text-anchor=\"middle\" x=\"50%\" y=\"16px\">next</text></svg><svg width=\"100%\" x=\"0%\" y=\"48px\"><defs /><svg width=\"100%\" x=\"0\" y=\"0px\"><defs /><text text-anchor=\"middle\" x=\"50%\" y=\"16px\">JJ</text></svg></svg><line stroke=\"black\" x1=\"50%\" x2=\"50%\" y1=\"19.2px\" y2=\"48px\" /></svg><line stroke=\"black\" x1=\"50%\" x2=\"79.6813%\" y1=\"19.2px\" y2=\"48px\" /><svg width=\"4.38247%\" x=\"80.8765%\" y=\"48px\"><defs /><svg width=\"100%\" x=\"0\" y=\"0px\"><defs /><text text-anchor=\"middle\" x=\"50%\" y=\"16px\">financial</text></svg><svg width=\"100%\" x=\"0%\" y=\"48px\"><defs /><svg width=\"100%\" x=\"0\" y=\"0px\"><defs /><text text-anchor=\"middle\" x=\"50%\" y=\"16px\">JJ</text></svg></svg><line stroke=\"black\" x1=\"50%\" x2=\"50%\" y1=\"19.2px\" y2=\"48px\" /></svg><line stroke=\"black\" x1=\"50%\" x2=\"83.0677%\" y1=\"19.2px\" y2=\"48px\" /><svg width=\"2.39044%\" x=\"85.259%\" y=\"48px\"><defs /><svg width=\"100%\" x=\"0\" y=\"0px\"><defs /><text text-anchor=\"middle\" x=\"50%\" y=\"16px\">year</text></svg><svg width=\"100%\" x=\"0%\" y=\"48px\"><defs /><svg width=\"100%\" x=\"0\" y=\"0px\"><defs /><text text-anchor=\"middle\" x=\"50%\" y=\"16px\">NN</text></svg></svg><line stroke=\"black\" x1=\"50%\" x2=\"50%\" y1=\"19.2px\" y2=\"48px\" /></svg><line stroke=\"black\" x1=\"50%\" x2=\"86.4542%\" y1=\"19.2px\" y2=\"48px\" /><svg width=\"1.19522%\" x=\"87.6494%\" y=\"48px\"><defs /><svg width=\"100%\" x=\"0\" y=\"0px\"><defs /><text text-anchor=\"middle\" x=\"50%\" y=\"16px\">,</text></svg><svg width=\"100%\" x=\"0%\" y=\"48px\"><defs /><svg width=\"100%\" x=\"0\" y=\"0px\"><defs /><text text-anchor=\"middle\" x=\"50%\" y=\"16px\">,</text></svg></svg><line stroke=\"black\" x1=\"50%\" x2=\"50%\" y1=\"19.2px\" y2=\"48px\" /></svg><line stroke=\"black\" x1=\"50%\" x2=\"88.247%\" y1=\"19.2px\" y2=\"48px\" /><svg width=\"1.59363%\" x=\"88.8446%\" y=\"48px\"><defs /><svg width=\"100%\" x=\"0\" y=\"0px\"><defs /><text text-anchor=\"middle\" x=\"50%\" y=\"16px\">a</text></svg><svg width=\"100%\" x=\"0%\" y=\"48px\"><defs /><svg width=\"100%\" x=\"0\" y=\"0px\"><defs /><text text-anchor=\"middle\" x=\"50%\" y=\"16px\">DT</text></svg></svg><line stroke=\"black\" x1=\"50%\" x2=\"50%\" y1=\"19.2px\" y2=\"48px\" /></svg><line stroke=\"black\" x1=\"50%\" x2=\"89.6414%\" y1=\"19.2px\" y2=\"48px\" /><svg width=\"2.78884%\" x=\"90.4382%\" y=\"48px\"><defs /><svg width=\"100%\" x=\"0\" y=\"0px\"><defs /><text text-anchor=\"middle\" x=\"50%\" y=\"16px\">GPE</text></svg><svg width=\"100%\" x=\"0%\" y=\"48px\"><defs /><svg width=\"100%\" x=\"0\" y=\"0px\"><defs /><text text-anchor=\"middle\" x=\"50%\" y=\"16px\">Honda</text></svg><svg width=\"100%\" x=\"0%\" y=\"48px\"><defs /><svg width=\"100%\" x=\"0\" y=\"0px\"><defs /><text text-anchor=\"middle\" x=\"50%\" y=\"16px\">NNP</text></svg></svg><line stroke=\"black\" x1=\"50%\" x2=\"50%\" y1=\"19.2px\" y2=\"48px\" /></svg><line stroke=\"black\" x1=\"50%\" x2=\"50%\" y1=\"19.2px\" y2=\"48px\" /></svg><line stroke=\"black\" x1=\"50%\" x2=\"91.8327%\" y1=\"19.2px\" y2=\"48px\" /><svg width=\"3.18725%\" x=\"93.2271%\" y=\"48px\"><defs /><svg width=\"100%\" x=\"0\" y=\"0px\"><defs /><text text-anchor=\"middle\" x=\"50%\" y=\"16px\">dealer</text></svg><svg width=\"100%\" x=\"0%\" y=\"48px\"><defs /><svg width=\"100%\" x=\"0\" y=\"0px\"><defs /><text text-anchor=\"middle\" x=\"50%\" y=\"16px\">NN</text></svg></svg><line stroke=\"black\" x1=\"50%\" x2=\"50%\" y1=\"19.2px\" y2=\"48px\" /></svg><line stroke=\"black\" x1=\"50%\" x2=\"94.8207%\" y1=\"19.2px\" y2=\"48px\" /><svg width=\"2.39044%\" x=\"96.4143%\" y=\"48px\"><defs /><svg width=\"100%\" x=\"0\" y=\"0px\"><defs /><text text-anchor=\"middle\" x=\"50%\" y=\"16px\">said</text></svg><svg width=\"100%\" x=\"0%\" y=\"48px\"><defs /><svg width=\"100%\" x=\"0\" y=\"0px\"><defs /><text text-anchor=\"middle\" x=\"50%\" y=\"16px\">VBD</text></svg></svg><line stroke=\"black\" x1=\"50%\" x2=\"50%\" y1=\"19.2px\" y2=\"48px\" /></svg><line stroke=\"black\" x1=\"50%\" x2=\"97.6096%\" y1=\"19.2px\" y2=\"48px\" /><svg width=\"1.19522%\" x=\"98.8048%\" y=\"48px\"><defs /><svg width=\"100%\" x=\"0\" y=\"0px\"><defs /><text text-anchor=\"middle\" x=\"50%\" y=\"16px\">.</text></svg><svg width=\"100%\" x=\"0%\" y=\"48px\"><defs /><svg width=\"100%\" x=\"0\" y=\"0px\"><defs /><text text-anchor=\"middle\" x=\"50%\" y=\"16px\">.</text></svg></svg><line stroke=\"black\" x1=\"50%\" x2=\"50%\" y1=\"19.2px\" y2=\"48px\" /></svg><line stroke=\"black\" x1=\"50%\" x2=\"99.4024%\" y1=\"19.2px\" y2=\"48px\" /></svg>"
      ],
      "text/plain": [
       "Tree('S', [('“', 'JJ'), Tree('PERSON', [('Atlas', 'NNP'), ('Honda', 'NNP')]), ('is', 'VBZ'), ('expected', 'VBN'), ('to', 'TO'), ('achieve', 'VB'), ('sales', 'NNS'), ('of', 'IN'), ('1.1', 'CD'), ('million', 'CD'), ('units', 'NNS'), ('by', 'IN'), ('end', 'NN'), ('of', 'IN'), ('its', 'PRP$'), ('financial', 'JJ'), ('year', 'NN'), ('ending', 'VBG'), ('March', 'NNP'), ('31', 'CD'), (',', ','), ('while', 'IN'), ('it', 'PRP'), ('aims', 'VBZ'), ('to', 'TO'), ('hit', 'VB'), ('sales', 'NNS'), ('of', 'IN'), ('1.3m', 'CD'), ('bikes', 'NNS'), ('in', 'IN'), ('its', 'PRP$'), ('next', 'JJ'), ('financial', 'JJ'), ('year', 'NN'), (',', ','), ('a', 'DT'), Tree('GPE', [('Honda', 'NNP')]), ('dealer', 'NN'), ('said', 'VBD'), ('.', '.')])"
      ]
     },
     "execution_count": 86,
     "metadata": {},
     "output_type": "execute_result"
    }
   ],
   "source": [
    "entities"
   ]
  },
  {
   "cell_type": "code",
   "execution_count": 87,
   "metadata": {},
   "outputs": [
    {
     "name": "stdout",
     "output_type": "stream",
     "text": [
      "Atlas Honda WORK_OF_ART\n",
      "1.1 million CARDINAL\n",
      "year ending March 31 DATE\n",
      "1.3 CARDINAL\n",
      "next financial year DATE\n",
      "Honda ORG\n"
     ]
    }
   ],
   "source": [
    "\n",
    "nlp = spacy.load(\"en_core_web_sm\")\n",
    "doc = nlp(s2)\n",
    "for ent in doc.ents:\n",
    "    print(ent.text, ent.label_)\n"
   ]
  },
  {
   "cell_type": "markdown",
   "metadata": {},
   "source": [
    "PART2 3RD PART DONE ON COLAB"
   ]
  },
  {
   "cell_type": "markdown",
   "metadata": {},
   "source": [
    "LINK: https://colab.research.google.com/drive/1SZn6CnDGLeuqSP1jYKHt7ZXp4s3IhTt-?usp=sharing"
   ]
  }
 ],
 "metadata": {
  "kernelspec": {
   "display_name": "Python 3",
   "language": "python",
   "name": "python3"
  },
  "language_info": {
   "codemirror_mode": {
    "name": "ipython",
    "version": 3
   },
   "file_extension": ".py",
   "mimetype": "text/x-python",
   "name": "python",
   "nbconvert_exporter": "python",
   "pygments_lexer": "ipython3",
   "version": "3.11.4"
  }
 },
 "nbformat": 4,
 "nbformat_minor": 2
}
